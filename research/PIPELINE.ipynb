{
 "cells": [
  {
   "cell_type": "markdown",
   "metadata": {},
   "source": [
    "# IMPORTING LIBRARIES"
   ]
  },
  {
   "cell_type": "code",
   "execution_count": 1,
   "metadata": {},
   "outputs": [],
   "source": [
    "import numpy as np\n",
    "import sklearn\n",
    "import pandas as pd\n",
    "import seaborn as sns\n",
    "import matplotlib.pyplot as plt\n",
    "from sklearn.feature_selection import SelectFromModel\n",
    "from sklearn.linear_model import LinearRegression, Lasso, Ridge, ElasticNet\n",
    "from sklearn.ensemble import RandomForestRegressor, GradientBoostingRegressor\n",
    "from sklearn.tree import DecisionTreeRegressor\n",
    "from sklearn.svm import SVR\n",
    "from sklearn.neighbors import KNeighborsRegressor\n",
    "from sklearn.preprocessing import StandardScaler, LabelEncoder, OneHotEncoder\n",
    "from sklearn.compose import ColumnTransformer\n",
    "from sklearn.model_selection import train_test_split\n",
    "from sklearn.metrics import mean_squared_error, r2_score, mean_absolute_error\n",
    "from sklearn.impute import SimpleImputer\n",
    "from sklearn.pipeline import Pipeline\n",
    "from category_encoders import TargetEncoder\n",
    "import warnings\n"
   ]
  },
  {
   "cell_type": "markdown",
   "metadata": {},
   "source": [
    "- Suppressing some specific warning from joblib and loky"
   ]
  },
  {
   "cell_type": "code",
   "execution_count": 2,
   "metadata": {},
   "outputs": [],
   "source": [
    "warnings.filterwarnings(\"ignore\", message=\"Could not find the number of physical cores.*\")\n"
   ]
  },
  {
   "cell_type": "markdown",
   "metadata": {},
   "source": [
    "# DATA INGESTION"
   ]
  },
  {
   "cell_type": "code",
   "execution_count": 3,
   "metadata": {},
   "outputs": [
    {
     "data": {
      "text/html": [
       "<div>\n",
       "<style scoped>\n",
       "    .dataframe tbody tr th:only-of-type {\n",
       "        vertical-align: middle;\n",
       "    }\n",
       "\n",
       "    .dataframe tbody tr th {\n",
       "        vertical-align: top;\n",
       "    }\n",
       "\n",
       "    .dataframe thead th {\n",
       "        text-align: right;\n",
       "    }\n",
       "</style>\n",
       "<table border=\"1\" class=\"dataframe\">\n",
       "  <thead>\n",
       "    <tr style=\"text-align: right;\">\n",
       "      <th></th>\n",
       "      <th>movie_title</th>\n",
       "      <th>movie_info</th>\n",
       "      <th>critics_consensus</th>\n",
       "      <th>rating</th>\n",
       "      <th>genre</th>\n",
       "      <th>directors</th>\n",
       "      <th>writers</th>\n",
       "      <th>cast</th>\n",
       "      <th>in_theaters_date</th>\n",
       "      <th>on_streaming_date</th>\n",
       "      <th>runtime_in_minutes</th>\n",
       "      <th>studio_name</th>\n",
       "      <th>tomatometer_status</th>\n",
       "      <th>tomatometer_rating</th>\n",
       "      <th>tomatometer_count</th>\n",
       "      <th>audience_rating</th>\n",
       "    </tr>\n",
       "  </thead>\n",
       "  <tbody>\n",
       "    <tr>\n",
       "      <th>0</th>\n",
       "      <td>Percy Jackson &amp; the Olympians: The Lightning T...</td>\n",
       "      <td>A teenager discovers he's the descendant of a ...</td>\n",
       "      <td>Though it may seem like just another Harry Pot...</td>\n",
       "      <td>PG</td>\n",
       "      <td>Action &amp; Adventure, Comedy, Drama, Science Fic...</td>\n",
       "      <td>Chris Columbus</td>\n",
       "      <td>Craig Titley</td>\n",
       "      <td>Logan Lerman, Brandon T. Jackson, Alexandra Da...</td>\n",
       "      <td>2010-02-12</td>\n",
       "      <td>2010-06-29</td>\n",
       "      <td>83.0</td>\n",
       "      <td>20th Century Fox</td>\n",
       "      <td>Rotten</td>\n",
       "      <td>49</td>\n",
       "      <td>144</td>\n",
       "      <td>53.0</td>\n",
       "    </tr>\n",
       "    <tr>\n",
       "      <th>1</th>\n",
       "      <td>Please Give</td>\n",
       "      <td>Kate has a lot on her mind. There's the ethics...</td>\n",
       "      <td>Nicole Holofcener's newest might seem slight i...</td>\n",
       "      <td>R</td>\n",
       "      <td>Comedy</td>\n",
       "      <td>Nicole Holofcener</td>\n",
       "      <td>Nicole Holofcener</td>\n",
       "      <td>Catherine Keener, Amanda Peet, Oliver Platt, R...</td>\n",
       "      <td>2010-04-30</td>\n",
       "      <td>2010-10-19</td>\n",
       "      <td>90.0</td>\n",
       "      <td>Sony Pictures Classics</td>\n",
       "      <td>Certified Fresh</td>\n",
       "      <td>86</td>\n",
       "      <td>140</td>\n",
       "      <td>64.0</td>\n",
       "    </tr>\n",
       "    <tr>\n",
       "      <th>2</th>\n",
       "      <td>10</td>\n",
       "      <td>Blake Edwards' 10 stars Dudley Moore as George...</td>\n",
       "      <td>NaN</td>\n",
       "      <td>R</td>\n",
       "      <td>Comedy, Romance</td>\n",
       "      <td>Blake Edwards</td>\n",
       "      <td>Blake Edwards</td>\n",
       "      <td>Dudley Moore, Bo Derek, Julie Andrews, Robert ...</td>\n",
       "      <td>1979-10-05</td>\n",
       "      <td>1997-08-27</td>\n",
       "      <td>118.0</td>\n",
       "      <td>Waner Bros.</td>\n",
       "      <td>Fresh</td>\n",
       "      <td>68</td>\n",
       "      <td>22</td>\n",
       "      <td>53.0</td>\n",
       "    </tr>\n",
       "    <tr>\n",
       "      <th>3</th>\n",
       "      <td>12 Angry Men (Twelve Angry Men)</td>\n",
       "      <td>A Puerto Rican youth is on trial for murder, a...</td>\n",
       "      <td>Sidney Lumet's feature debut is a superbly wri...</td>\n",
       "      <td>NR</td>\n",
       "      <td>Classics, Drama</td>\n",
       "      <td>Sidney Lumet</td>\n",
       "      <td>Reginald Rose</td>\n",
       "      <td>Martin Balsam, John Fiedler, Lee J. Cobb, E.G....</td>\n",
       "      <td>1957-04-13</td>\n",
       "      <td>2001-03-06</td>\n",
       "      <td>95.0</td>\n",
       "      <td>Criterion Collection</td>\n",
       "      <td>Certified Fresh</td>\n",
       "      <td>100</td>\n",
       "      <td>51</td>\n",
       "      <td>97.0</td>\n",
       "    </tr>\n",
       "    <tr>\n",
       "      <th>4</th>\n",
       "      <td>20,000 Leagues Under The Sea</td>\n",
       "      <td>This 1954 Disney version of Jules Verne's 20,0...</td>\n",
       "      <td>One of Disney's finest live-action adventures,...</td>\n",
       "      <td>G</td>\n",
       "      <td>Action &amp; Adventure, Drama, Kids &amp; Family</td>\n",
       "      <td>Richard Fleischer</td>\n",
       "      <td>Earl Felton</td>\n",
       "      <td>James Mason, Kirk Douglas, Paul Lukas, Peter L...</td>\n",
       "      <td>1954-01-01</td>\n",
       "      <td>2003-05-20</td>\n",
       "      <td>127.0</td>\n",
       "      <td>Disney</td>\n",
       "      <td>Fresh</td>\n",
       "      <td>89</td>\n",
       "      <td>27</td>\n",
       "      <td>74.0</td>\n",
       "    </tr>\n",
       "  </tbody>\n",
       "</table>\n",
       "</div>"
      ],
      "text/plain": [
       "                                         movie_title  \\\n",
       "0  Percy Jackson & the Olympians: The Lightning T...   \n",
       "1                                        Please Give   \n",
       "2                                                 10   \n",
       "3                    12 Angry Men (Twelve Angry Men)   \n",
       "4                       20,000 Leagues Under The Sea   \n",
       "\n",
       "                                          movie_info  \\\n",
       "0  A teenager discovers he's the descendant of a ...   \n",
       "1  Kate has a lot on her mind. There's the ethics...   \n",
       "2  Blake Edwards' 10 stars Dudley Moore as George...   \n",
       "3  A Puerto Rican youth is on trial for murder, a...   \n",
       "4  This 1954 Disney version of Jules Verne's 20,0...   \n",
       "\n",
       "                                   critics_consensus rating  \\\n",
       "0  Though it may seem like just another Harry Pot...     PG   \n",
       "1  Nicole Holofcener's newest might seem slight i...      R   \n",
       "2                                                NaN      R   \n",
       "3  Sidney Lumet's feature debut is a superbly wri...     NR   \n",
       "4  One of Disney's finest live-action adventures,...      G   \n",
       "\n",
       "                                               genre          directors  \\\n",
       "0  Action & Adventure, Comedy, Drama, Science Fic...     Chris Columbus   \n",
       "1                                             Comedy  Nicole Holofcener   \n",
       "2                                    Comedy, Romance      Blake Edwards   \n",
       "3                                    Classics, Drama       Sidney Lumet   \n",
       "4           Action & Adventure, Drama, Kids & Family  Richard Fleischer   \n",
       "\n",
       "             writers                                               cast  \\\n",
       "0       Craig Titley  Logan Lerman, Brandon T. Jackson, Alexandra Da...   \n",
       "1  Nicole Holofcener  Catherine Keener, Amanda Peet, Oliver Platt, R...   \n",
       "2      Blake Edwards  Dudley Moore, Bo Derek, Julie Andrews, Robert ...   \n",
       "3      Reginald Rose  Martin Balsam, John Fiedler, Lee J. Cobb, E.G....   \n",
       "4        Earl Felton  James Mason, Kirk Douglas, Paul Lukas, Peter L...   \n",
       "\n",
       "  in_theaters_date on_streaming_date  runtime_in_minutes  \\\n",
       "0       2010-02-12        2010-06-29                83.0   \n",
       "1       2010-04-30        2010-10-19                90.0   \n",
       "2       1979-10-05        1997-08-27               118.0   \n",
       "3       1957-04-13        2001-03-06                95.0   \n",
       "4       1954-01-01        2003-05-20               127.0   \n",
       "\n",
       "              studio_name tomatometer_status  tomatometer_rating  \\\n",
       "0        20th Century Fox             Rotten                  49   \n",
       "1  Sony Pictures Classics    Certified Fresh                  86   \n",
       "2             Waner Bros.              Fresh                  68   \n",
       "3    Criterion Collection    Certified Fresh                 100   \n",
       "4                  Disney              Fresh                  89   \n",
       "\n",
       "   tomatometer_count  audience_rating  \n",
       "0                144             53.0  \n",
       "1                140             64.0  \n",
       "2                 22             53.0  \n",
       "3                 51             97.0  \n",
       "4                 27             74.0  "
      ]
     },
     "execution_count": 3,
     "metadata": {},
     "output_type": "execute_result"
    }
   ],
   "source": [
    "df = pd.read_excel('C:/DATASETS/Rotten_Tomatoes_Movies3.xls')\n",
    "df.head()"
   ]
  },
  {
   "cell_type": "code",
   "execution_count": 4,
   "metadata": {},
   "outputs": [
    {
     "data": {
      "text/plain": [
       "Index(['movie_title', 'movie_info', 'critics_consensus', 'rating', 'genre',\n",
       "       'directors', 'writers', 'cast', 'in_theaters_date', 'on_streaming_date',\n",
       "       'runtime_in_minutes', 'studio_name', 'tomatometer_status',\n",
       "       'tomatometer_rating', 'tomatometer_count', 'audience_rating'],\n",
       "      dtype='object')"
      ]
     },
     "execution_count": 4,
     "metadata": {},
     "output_type": "execute_result"
    }
   ],
   "source": [
    "df.columns"
   ]
  },
  {
   "cell_type": "code",
   "execution_count": 5,
   "metadata": {},
   "outputs": [
    {
     "data": {
      "text/plain": [
       "(16638, 16)"
      ]
     },
     "execution_count": 5,
     "metadata": {},
     "output_type": "execute_result"
    }
   ],
   "source": [
    "df.shape"
   ]
  },
  {
   "cell_type": "code",
   "execution_count": 6,
   "metadata": {},
   "outputs": [
    {
     "data": {
      "text/plain": [
       "movie_title              0\n",
       "movie_info              24\n",
       "critics_consensus     8329\n",
       "rating                   0\n",
       "genre                   17\n",
       "directors              114\n",
       "writers               1349\n",
       "cast                   284\n",
       "in_theaters_date       815\n",
       "on_streaming_date        2\n",
       "runtime_in_minutes     155\n",
       "studio_name            416\n",
       "tomatometer_status       0\n",
       "tomatometer_rating       0\n",
       "tomatometer_count        0\n",
       "audience_rating        252\n",
       "dtype: int64"
      ]
     },
     "execution_count": 6,
     "metadata": {},
     "output_type": "execute_result"
    }
   ],
   "source": [
    "df.isna().sum()"
   ]
  },
  {
   "cell_type": "code",
   "execution_count": 7,
   "metadata": {},
   "outputs": [
    {
     "name": "stdout",
     "output_type": "stream",
     "text": [
      "<class 'pandas.core.frame.DataFrame'>\n",
      "RangeIndex: 16638 entries, 0 to 16637\n",
      "Data columns (total 16 columns):\n",
      " #   Column              Non-Null Count  Dtype         \n",
      "---  ------              --------------  -----         \n",
      " 0   movie_title         16638 non-null  object        \n",
      " 1   movie_info          16614 non-null  object        \n",
      " 2   critics_consensus   8309 non-null   object        \n",
      " 3   rating              16638 non-null  object        \n",
      " 4   genre               16621 non-null  object        \n",
      " 5   directors           16524 non-null  object        \n",
      " 6   writers             15289 non-null  object        \n",
      " 7   cast                16354 non-null  object        \n",
      " 8   in_theaters_date    15823 non-null  datetime64[ns]\n",
      " 9   on_streaming_date   16636 non-null  datetime64[ns]\n",
      " 10  runtime_in_minutes  16483 non-null  float64       \n",
      " 11  studio_name         16222 non-null  object        \n",
      " 12  tomatometer_status  16638 non-null  object        \n",
      " 13  tomatometer_rating  16638 non-null  int64         \n",
      " 14  tomatometer_count   16638 non-null  int64         \n",
      " 15  audience_rating     16386 non-null  float64       \n",
      "dtypes: datetime64[ns](2), float64(2), int64(2), object(10)\n",
      "memory usage: 2.0+ MB\n"
     ]
    }
   ],
   "source": [
    "df.info()"
   ]
  },
  {
   "cell_type": "code",
   "execution_count": 8,
   "metadata": {},
   "outputs": [
    {
     "data": {
      "text/html": [
       "<div>\n",
       "<style scoped>\n",
       "    .dataframe tbody tr th:only-of-type {\n",
       "        vertical-align: middle;\n",
       "    }\n",
       "\n",
       "    .dataframe tbody tr th {\n",
       "        vertical-align: top;\n",
       "    }\n",
       "\n",
       "    .dataframe thead th {\n",
       "        text-align: right;\n",
       "    }\n",
       "</style>\n",
       "<table border=\"1\" class=\"dataframe\">\n",
       "  <thead>\n",
       "    <tr style=\"text-align: right;\">\n",
       "      <th></th>\n",
       "      <th>in_theaters_date</th>\n",
       "      <th>on_streaming_date</th>\n",
       "      <th>runtime_in_minutes</th>\n",
       "      <th>tomatometer_rating</th>\n",
       "      <th>tomatometer_count</th>\n",
       "      <th>audience_rating</th>\n",
       "    </tr>\n",
       "  </thead>\n",
       "  <tbody>\n",
       "    <tr>\n",
       "      <th>count</th>\n",
       "      <td>15823</td>\n",
       "      <td>16636</td>\n",
       "      <td>16483.000000</td>\n",
       "      <td>16638.000000</td>\n",
       "      <td>16638.000000</td>\n",
       "      <td>16386.000000</td>\n",
       "    </tr>\n",
       "    <tr>\n",
       "      <th>mean</th>\n",
       "      <td>1999-10-24 22:10:52.973519488</td>\n",
       "      <td>2008-08-13 13:35:49.266650624</td>\n",
       "      <td>102.391494</td>\n",
       "      <td>60.466522</td>\n",
       "      <td>56.607104</td>\n",
       "      <td>60.470829</td>\n",
       "    </tr>\n",
       "    <tr>\n",
       "      <th>min</th>\n",
       "      <td>1914-06-01 00:00:00</td>\n",
       "      <td>1935-06-06 00:00:00</td>\n",
       "      <td>1.000000</td>\n",
       "      <td>0.000000</td>\n",
       "      <td>5.000000</td>\n",
       "      <td>0.000000</td>\n",
       "    </tr>\n",
       "    <tr>\n",
       "      <th>25%</th>\n",
       "      <td>1993-03-29 00:00:00</td>\n",
       "      <td>2003-01-28 00:00:00</td>\n",
       "      <td>90.000000</td>\n",
       "      <td>38.000000</td>\n",
       "      <td>12.000000</td>\n",
       "      <td>45.000000</td>\n",
       "    </tr>\n",
       "    <tr>\n",
       "      <th>50%</th>\n",
       "      <td>2006-08-04 00:00:00</td>\n",
       "      <td>2008-04-08 00:00:00</td>\n",
       "      <td>99.000000</td>\n",
       "      <td>66.000000</td>\n",
       "      <td>28.000000</td>\n",
       "      <td>62.000000</td>\n",
       "    </tr>\n",
       "    <tr>\n",
       "      <th>75%</th>\n",
       "      <td>2013-06-28 00:00:00</td>\n",
       "      <td>2014-05-12 00:00:00</td>\n",
       "      <td>111.000000</td>\n",
       "      <td>86.000000</td>\n",
       "      <td>76.000000</td>\n",
       "      <td>77.000000</td>\n",
       "    </tr>\n",
       "    <tr>\n",
       "      <th>max</th>\n",
       "      <td>2019-12-07 00:00:00</td>\n",
       "      <td>2019-11-01 00:00:00</td>\n",
       "      <td>2000.000000</td>\n",
       "      <td>100.000000</td>\n",
       "      <td>497.000000</td>\n",
       "      <td>100.000000</td>\n",
       "    </tr>\n",
       "    <tr>\n",
       "      <th>std</th>\n",
       "      <td>NaN</td>\n",
       "      <td>NaN</td>\n",
       "      <td>25.028011</td>\n",
       "      <td>28.587230</td>\n",
       "      <td>66.383800</td>\n",
       "      <td>20.462368</td>\n",
       "    </tr>\n",
       "  </tbody>\n",
       "</table>\n",
       "</div>"
      ],
      "text/plain": [
       "                    in_theaters_date              on_streaming_date  \\\n",
       "count                          15823                          16636   \n",
       "mean   1999-10-24 22:10:52.973519488  2008-08-13 13:35:49.266650624   \n",
       "min              1914-06-01 00:00:00            1935-06-06 00:00:00   \n",
       "25%              1993-03-29 00:00:00            2003-01-28 00:00:00   \n",
       "50%              2006-08-04 00:00:00            2008-04-08 00:00:00   \n",
       "75%              2013-06-28 00:00:00            2014-05-12 00:00:00   \n",
       "max              2019-12-07 00:00:00            2019-11-01 00:00:00   \n",
       "std                              NaN                            NaN   \n",
       "\n",
       "       runtime_in_minutes  tomatometer_rating  tomatometer_count  \\\n",
       "count        16483.000000        16638.000000       16638.000000   \n",
       "mean           102.391494           60.466522          56.607104   \n",
       "min              1.000000            0.000000           5.000000   \n",
       "25%             90.000000           38.000000          12.000000   \n",
       "50%             99.000000           66.000000          28.000000   \n",
       "75%            111.000000           86.000000          76.000000   \n",
       "max           2000.000000          100.000000         497.000000   \n",
       "std             25.028011           28.587230          66.383800   \n",
       "\n",
       "       audience_rating  \n",
       "count     16386.000000  \n",
       "mean         60.470829  \n",
       "min           0.000000  \n",
       "25%          45.000000  \n",
       "50%          62.000000  \n",
       "75%          77.000000  \n",
       "max         100.000000  \n",
       "std          20.462368  "
      ]
     },
     "execution_count": 8,
     "metadata": {},
     "output_type": "execute_result"
    }
   ],
   "source": [
    "df.describe()"
   ]
  },
  {
   "cell_type": "code",
   "execution_count": 9,
   "metadata": {},
   "outputs": [
    {
     "data": {
      "text/plain": [
       "<bound method DataFrame.corr of                                              movie_title  \\\n",
       "0      Percy Jackson & the Olympians: The Lightning T...   \n",
       "1                                            Please Give   \n",
       "2                                                     10   \n",
       "3                        12 Angry Men (Twelve Angry Men)   \n",
       "4                           20,000 Leagues Under The Sea   \n",
       "...                                                  ...   \n",
       "16633                                          Zoot Suit   \n",
       "16634                                           Zootopia   \n",
       "16635                                    Zorba the Greek   \n",
       "16636                                               Zulu   \n",
       "16637                                          Zulu Dawn   \n",
       "\n",
       "                                              movie_info  \\\n",
       "0      A teenager discovers he's the descendant of a ...   \n",
       "1      Kate has a lot on her mind. There's the ethics...   \n",
       "2      Blake Edwards' 10 stars Dudley Moore as George...   \n",
       "3      A Puerto Rican youth is on trial for murder, a...   \n",
       "4      This 1954 Disney version of Jules Verne's 20,0...   \n",
       "...                                                  ...   \n",
       "16633  Based on a 1940s Los Angeles murder trial, thi...   \n",
       "16634  The modern mammal metropolis of Zootopia is a ...   \n",
       "16635  If ever there was a role that Anthony Quinn wa...   \n",
       "16636  Filmed on a grand scale, Zulu is a rousing rec...   \n",
       "16637  A prequel to Zulu, Zulu Dawn depicts the event...   \n",
       "\n",
       "                                       critics_consensus rating  \\\n",
       "0      Though it may seem like just another Harry Pot...     PG   \n",
       "1      Nicole Holofcener's newest might seem slight i...      R   \n",
       "2                                                    NaN      R   \n",
       "3      Sidney Lumet's feature debut is a superbly wri...     NR   \n",
       "4      One of Disney's finest live-action adventures,...      G   \n",
       "...                                                  ...    ...   \n",
       "16633                                                NaN      R   \n",
       "16634  The brilliantly well-rounded Zootopia offers a...     PG   \n",
       "16635                                                NaN     NR   \n",
       "16636                                                NaN     PG   \n",
       "16637                                                NaN     PG   \n",
       "\n",
       "                                                   genre  \\\n",
       "0      Action & Adventure, Comedy, Drama, Science Fic...   \n",
       "1                                                 Comedy   \n",
       "2                                        Comedy, Romance   \n",
       "3                                        Classics, Drama   \n",
       "4               Action & Adventure, Drama, Kids & Family   \n",
       "...                                                  ...   \n",
       "16633                   Drama, Musical & Performing Arts   \n",
       "16634              Action & Adventure, Animation, Comedy   \n",
       "16635  Action & Adventure, Art House & International,...   \n",
       "16636                                    Classics, Drama   \n",
       "16637  Action & Adventure, Art House & International,...   \n",
       "\n",
       "                                  directors                      writers  \\\n",
       "0                            Chris Columbus                 Craig Titley   \n",
       "1                         Nicole Holofcener            Nicole Holofcener   \n",
       "2                             Blake Edwards                Blake Edwards   \n",
       "3                              Sidney Lumet                Reginald Rose   \n",
       "4                         Richard Fleischer                  Earl Felton   \n",
       "...                                     ...                          ...   \n",
       "16633                           Luis Valdez                  Luis Valdez   \n",
       "16634  Byron Howard, Rich Moore, Jared Bush    Jared Bush, Phil Johnston   \n",
       "16635                                   NaN                          NaN   \n",
       "16636           Cy Endfield, Cyril Endfield    Cy Endfield, John Prebble   \n",
       "16637                        Douglas Hickox  Cy Endfield, Anthony Storey   \n",
       "\n",
       "                                                    cast in_theaters_date  \\\n",
       "0      Logan Lerman, Brandon T. Jackson, Alexandra Da...       2010-02-12   \n",
       "1      Catherine Keener, Amanda Peet, Oliver Platt, R...       2010-04-30   \n",
       "2      Dudley Moore, Bo Derek, Julie Andrews, Robert ...       1979-10-05   \n",
       "3      Martin Balsam, John Fiedler, Lee J. Cobb, E.G....       1957-04-13   \n",
       "4      James Mason, Kirk Douglas, Paul Lukas, Peter L...       1954-01-01   \n",
       "...                                                  ...              ...   \n",
       "16633  Daniel Valdez, Edward James Olmos, Charles Aid...       1981-10-02   \n",
       "16634  Ginnifer Goodwin, Jason Bateman, Idris Elba, J...       2016-03-04   \n",
       "16635  Anthony Quinn, Alan Bates, Irene Papas, Lila K...       1964-12-17   \n",
       "16636  Stanley Baker, Jack Hawkins, Ulla Jacobsson, J...       1964-06-17   \n",
       "16637  Burt Lancaster, Peter O'Toole, Simon Ward, Joh...       1979-12-14   \n",
       "\n",
       "      on_streaming_date  runtime_in_minutes                    studio_name  \\\n",
       "0            2010-06-29                83.0               20th Century Fox   \n",
       "1            2010-10-19                90.0         Sony Pictures Classics   \n",
       "2            1997-08-27               118.0                    Waner Bros.   \n",
       "3            2001-03-06                95.0           Criterion Collection   \n",
       "4            2003-05-20               127.0                         Disney   \n",
       "...                 ...                 ...                            ...   \n",
       "16633        2003-05-27               104.0       MCA Universal Home Video   \n",
       "16634        2016-06-07               108.0  Walt Disney Animation Studios   \n",
       "16635        2004-08-03               142.0                            Fox   \n",
       "16636        2001-02-02               139.0             Paramount Pictures   \n",
       "16637        2005-09-27               117.0            Tango Entertainment   \n",
       "\n",
       "      tomatometer_status  tomatometer_rating  tomatometer_count  \\\n",
       "0                 Rotten                  49                144   \n",
       "1        Certified Fresh                  86                140   \n",
       "2                  Fresh                  68                 22   \n",
       "3        Certified Fresh                 100                 51   \n",
       "4                  Fresh                  89                 27   \n",
       "...                  ...                 ...                ...   \n",
       "16633             Rotten                  56                  9   \n",
       "16634    Certified Fresh                  97                279   \n",
       "16635              Fresh                  78                  9   \n",
       "16636              Fresh                  95                 21   \n",
       "16637             Rotten                  57                  7   \n",
       "\n",
       "       audience_rating  \n",
       "0                 53.0  \n",
       "1                 64.0  \n",
       "2                 53.0  \n",
       "3                 97.0  \n",
       "4                 74.0  \n",
       "...                ...  \n",
       "16633             74.0  \n",
       "16634             92.0  \n",
       "16635             87.0  \n",
       "16636             91.0  \n",
       "16637             62.0  \n",
       "\n",
       "[16638 rows x 16 columns]>"
      ]
     },
     "execution_count": 9,
     "metadata": {},
     "output_type": "execute_result"
    }
   ],
   "source": [
    "df.corr"
   ]
  },
  {
   "cell_type": "code",
   "execution_count": 10,
   "metadata": {},
   "outputs": [
    {
     "data": {
      "text/plain": [
       "movie_title           16106\n",
       "movie_info            16613\n",
       "critics_consensus      8307\n",
       "rating                    8\n",
       "genre                  1080\n",
       "directors              8314\n",
       "writers               12121\n",
       "cast                  16326\n",
       "in_theaters_date       5586\n",
       "on_streaming_date      2260\n",
       "runtime_in_minutes      201\n",
       "studio_name            2886\n",
       "tomatometer_status        3\n",
       "tomatometer_rating      101\n",
       "tomatometer_count       393\n",
       "audience_rating          98\n",
       "dtype: int64"
      ]
     },
     "execution_count": 10,
     "metadata": {},
     "output_type": "execute_result"
    }
   ],
   "source": [
    "df.nunique()"
   ]
  },
  {
   "cell_type": "code",
   "execution_count": 11,
   "metadata": {},
   "outputs": [
    {
     "data": {
      "text/plain": [
       "movie_title              0\n",
       "movie_info              24\n",
       "critics_consensus     8329\n",
       "rating                   0\n",
       "genre                   17\n",
       "directors              114\n",
       "writers               1349\n",
       "cast                   284\n",
       "in_theaters_date       815\n",
       "on_streaming_date        2\n",
       "runtime_in_minutes     155\n",
       "studio_name            416\n",
       "tomatometer_status       0\n",
       "tomatometer_rating       0\n",
       "tomatometer_count        0\n",
       "audience_rating        252\n",
       "dtype: int64"
      ]
     },
     "execution_count": 11,
     "metadata": {},
     "output_type": "execute_result"
    }
   ],
   "source": [
    "df.isna().sum()"
   ]
  },
  {
   "cell_type": "markdown",
   "metadata": {},
   "source": [
    "Dropping `critics_consensus` column due to a high proportion of missing values"
   ]
  },
  {
   "cell_type": "code",
   "execution_count": 12,
   "metadata": {},
   "outputs": [],
   "source": [
    "df = df.drop(columns=['critics_consensus'])"
   ]
  },
  {
   "cell_type": "code",
   "execution_count": 13,
   "metadata": {},
   "outputs": [
    {
     "name": "stdout",
     "output_type": "stream",
     "text": [
      "Numerical Columns (4): \n",
      " ['runtime_in_minutes', 'tomatometer_rating', 'tomatometer_count', 'audience_rating']\n",
      "\n",
      "Categorical Columns (9): \n",
      " ['movie_title', 'movie_info', 'rating', 'genre', 'directors', 'writers', 'cast', 'studio_name', 'tomatometer_status']\n",
      "\n",
      "Datetime Columns (2): \n",
      " ['in_theaters_date', 'on_streaming_date']\n",
      "\n"
     ]
    }
   ],
   "source": [
    "numerical_features = df.select_dtypes(include=[np.number]).columns.tolist()\n",
    "categorical_features = df.select_dtypes(include=['object', 'category']).columns.tolist()\n",
    "datetime_features = df.select_dtypes(include=[np.datetime64]).columns.tolist()\n",
    "\n",
    "print(f\"Numerical Columns ({len(numerical_features)}): \\n\", numerical_features)\n",
    "print()\n",
    "print(f\"Categorical Columns ({len(categorical_features)}): \\n\", categorical_features)\n",
    "print()\n",
    "print(f\"Datetime Columns ({len(datetime_features)}): \\n\", datetime_features)\n",
    "print()\n"
   ]
  },
  {
   "cell_type": "markdown",
   "metadata": {},
   "source": [
    "# DATA CLEANING"
   ]
  },
  {
   "cell_type": "markdown",
   "metadata": {},
   "source": [
    "- Date and Time Conversions"
   ]
  },
  {
   "cell_type": "code",
   "execution_count": 14,
   "metadata": {},
   "outputs": [],
   "source": [
    "df['in_theaters_date'] = pd.to_datetime(df['in_theaters_date'], errors='coerce')\n",
    "df['on_streaming_date'] = pd.to_datetime(df['on_streaming_date'], errors='coerce')\n",
    "\n",
    "df['in_theaters_year'] = df['in_theaters_date'].dt.year\n",
    "df['in_theaters_month'] = df['in_theaters_date'].dt.month\n",
    "df['in_theaters_day'] = df['in_theaters_date'].dt.day\n",
    "\n",
    "df['days_to_streaming'] = (df['on_streaming_date'] - df['in_theaters_date']).dt.days\n",
    "\n",
    "df = df.drop(columns=['in_theaters_date', 'on_streaming_date'], errors='ignore')"
   ]
  },
  {
   "cell_type": "markdown",
   "metadata": {},
   "source": [
    "- Mapping correctly"
   ]
  },
  {
   "cell_type": "code",
   "execution_count": 15,
   "metadata": {},
   "outputs": [],
   "source": [
    "rating_correction_map = {\n",
    "'PG-13)': 'PG-13',  # Fixing extra parenthesis\n",
    "'NC17': 'NC-17',    # Standardizing format\n",
    "'R)': 'R'\n",
    "}\n",
    "df['rating'] = df['rating'].replace(rating_correction_map)\n"
   ]
  },
  {
   "cell_type": "code",
   "execution_count": 16,
   "metadata": {},
   "outputs": [
    {
     "data": {
      "text/plain": [
       "array(['PG', 'R', 'NR', 'G', 'PG-13', 'NC-17'], dtype=object)"
      ]
     },
     "execution_count": 16,
     "metadata": {},
     "output_type": "execute_result"
    }
   ],
   "source": [
    "df['rating'].unique()"
   ]
  },
  {
   "cell_type": "code",
   "execution_count": 17,
   "metadata": {},
   "outputs": [
    {
     "data": {
      "text/plain": [
       "6"
      ]
     },
     "execution_count": 17,
     "metadata": {},
     "output_type": "execute_result"
    }
   ],
   "source": [
    "df['rating'].nunique()"
   ]
  },
  {
   "cell_type": "code",
   "execution_count": 18,
   "metadata": {},
   "outputs": [
    {
     "name": "stdout",
     "output_type": "stream",
     "text": [
      "Numerical Columns (8): \n",
      " ['runtime_in_minutes', 'tomatometer_rating', 'tomatometer_count', 'audience_rating', 'in_theaters_year', 'in_theaters_month', 'in_theaters_day', 'days_to_streaming']\n",
      "\n",
      "Categorical Columns (9): \n",
      " ['movie_title', 'movie_info', 'rating', 'genre', 'directors', 'writers', 'cast', 'studio_name', 'tomatometer_status']\n",
      "\n",
      "Datetime Columns (0): \n",
      " []\n",
      "\n"
     ]
    }
   ],
   "source": [
    "numerical_features = df.select_dtypes(include=[np.number]).columns.tolist()\n",
    "categorical_features = df.select_dtypes(include=['object', 'category']).columns.tolist()\n",
    "datetime_features = df.select_dtypes(include=[np.datetime64]).columns.tolist()\n",
    "\n",
    "print(f\"Numerical Columns ({len(numerical_features)}): \\n\", numerical_features)\n",
    "print()\n",
    "print(f\"Categorical Columns ({len(categorical_features)}): \\n\", categorical_features)\n",
    "print()\n",
    "print(f\"Datetime Columns ({len(datetime_features)}): \\n\", datetime_features)\n",
    "print()\n"
   ]
  },
  {
   "cell_type": "markdown",
   "metadata": {},
   "source": [
    "- Handling Missing Values"
   ]
  },
  {
   "cell_type": "code",
   "execution_count": 19,
   "metadata": {},
   "outputs": [],
   "source": [
    "num_imputer = SimpleImputer(strategy='mean')\n",
    "cat_imputer = SimpleImputer(strategy='most_frequent')\n",
    "\n",
    "# Impute missing values\n",
    "df[numerical_features] = num_imputer.fit_transform(df[numerical_features])\n",
    "df[categorical_features] = cat_imputer.fit_transform(df[categorical_features])"
   ]
  },
  {
   "cell_type": "code",
   "execution_count": 20,
   "metadata": {},
   "outputs": [
    {
     "data": {
      "text/html": [
       "<div>\n",
       "<style scoped>\n",
       "    .dataframe tbody tr th:only-of-type {\n",
       "        vertical-align: middle;\n",
       "    }\n",
       "\n",
       "    .dataframe tbody tr th {\n",
       "        vertical-align: top;\n",
       "    }\n",
       "\n",
       "    .dataframe thead th {\n",
       "        text-align: right;\n",
       "    }\n",
       "</style>\n",
       "<table border=\"1\" class=\"dataframe\">\n",
       "  <thead>\n",
       "    <tr style=\"text-align: right;\">\n",
       "      <th></th>\n",
       "      <th>movie_title</th>\n",
       "      <th>movie_info</th>\n",
       "      <th>rating</th>\n",
       "      <th>genre</th>\n",
       "      <th>directors</th>\n",
       "      <th>writers</th>\n",
       "      <th>cast</th>\n",
       "      <th>runtime_in_minutes</th>\n",
       "      <th>studio_name</th>\n",
       "      <th>tomatometer_status</th>\n",
       "      <th>tomatometer_rating</th>\n",
       "      <th>tomatometer_count</th>\n",
       "      <th>audience_rating</th>\n",
       "      <th>in_theaters_year</th>\n",
       "      <th>in_theaters_month</th>\n",
       "      <th>in_theaters_day</th>\n",
       "      <th>days_to_streaming</th>\n",
       "    </tr>\n",
       "  </thead>\n",
       "  <tbody>\n",
       "    <tr>\n",
       "      <th>0</th>\n",
       "      <td>Percy Jackson &amp; the Olympians: The Lightning T...</td>\n",
       "      <td>A teenager discovers he's the descendant of a ...</td>\n",
       "      <td>PG</td>\n",
       "      <td>Action &amp; Adventure, Comedy, Drama, Science Fic...</td>\n",
       "      <td>Chris Columbus</td>\n",
       "      <td>Craig Titley</td>\n",
       "      <td>Logan Lerman, Brandon T. Jackson, Alexandra Da...</td>\n",
       "      <td>83.0</td>\n",
       "      <td>20th Century Fox</td>\n",
       "      <td>Rotten</td>\n",
       "      <td>49.0</td>\n",
       "      <td>144.0</td>\n",
       "      <td>53.0</td>\n",
       "      <td>2010.0</td>\n",
       "      <td>2.0</td>\n",
       "      <td>12.0</td>\n",
       "      <td>137.0</td>\n",
       "    </tr>\n",
       "    <tr>\n",
       "      <th>1</th>\n",
       "      <td>Please Give</td>\n",
       "      <td>Kate has a lot on her mind. There's the ethics...</td>\n",
       "      <td>R</td>\n",
       "      <td>Comedy</td>\n",
       "      <td>Nicole Holofcener</td>\n",
       "      <td>Nicole Holofcener</td>\n",
       "      <td>Catherine Keener, Amanda Peet, Oliver Platt, R...</td>\n",
       "      <td>90.0</td>\n",
       "      <td>Sony Pictures Classics</td>\n",
       "      <td>Certified Fresh</td>\n",
       "      <td>86.0</td>\n",
       "      <td>140.0</td>\n",
       "      <td>64.0</td>\n",
       "      <td>2010.0</td>\n",
       "      <td>4.0</td>\n",
       "      <td>30.0</td>\n",
       "      <td>172.0</td>\n",
       "    </tr>\n",
       "  </tbody>\n",
       "</table>\n",
       "</div>"
      ],
      "text/plain": [
       "                                         movie_title  \\\n",
       "0  Percy Jackson & the Olympians: The Lightning T...   \n",
       "1                                        Please Give   \n",
       "\n",
       "                                          movie_info rating  \\\n",
       "0  A teenager discovers he's the descendant of a ...     PG   \n",
       "1  Kate has a lot on her mind. There's the ethics...      R   \n",
       "\n",
       "                                               genre          directors  \\\n",
       "0  Action & Adventure, Comedy, Drama, Science Fic...     Chris Columbus   \n",
       "1                                             Comedy  Nicole Holofcener   \n",
       "\n",
       "             writers                                               cast  \\\n",
       "0       Craig Titley  Logan Lerman, Brandon T. Jackson, Alexandra Da...   \n",
       "1  Nicole Holofcener  Catherine Keener, Amanda Peet, Oliver Platt, R...   \n",
       "\n",
       "   runtime_in_minutes             studio_name tomatometer_status  \\\n",
       "0                83.0        20th Century Fox             Rotten   \n",
       "1                90.0  Sony Pictures Classics    Certified Fresh   \n",
       "\n",
       "   tomatometer_rating  tomatometer_count  audience_rating  in_theaters_year  \\\n",
       "0                49.0              144.0             53.0            2010.0   \n",
       "1                86.0              140.0             64.0            2010.0   \n",
       "\n",
       "   in_theaters_month  in_theaters_day  days_to_streaming  \n",
       "0                2.0             12.0              137.0  \n",
       "1                4.0             30.0              172.0  "
      ]
     },
     "execution_count": 20,
     "metadata": {},
     "output_type": "execute_result"
    }
   ],
   "source": [
    "df.head(2)"
   ]
  },
  {
   "cell_type": "markdown",
   "metadata": {},
   "source": [
    "# ENCODING"
   ]
  },
  {
   "cell_type": "code",
   "execution_count": 21,
   "metadata": {},
   "outputs": [
    {
     "data": {
      "text/plain": [
       "['movie_title',\n",
       " 'movie_info',\n",
       " 'rating',\n",
       " 'genre',\n",
       " 'directors',\n",
       " 'writers',\n",
       " 'cast',\n",
       " 'studio_name',\n",
       " 'tomatometer_status']"
      ]
     },
     "execution_count": 21,
     "metadata": {},
     "output_type": "execute_result"
    }
   ],
   "source": [
    "categorical_features"
   ]
  },
  {
   "cell_type": "markdown",
   "metadata": {},
   "source": [
    "- Setting Encoding variables"
   ]
  },
  {
   "cell_type": "code",
   "execution_count": 22,
   "metadata": {},
   "outputs": [],
   "source": [
    "te_features = ['cast', 'movie_info', 'movie_title']\n",
    "high_cardinal_features = ['genre', 'directors', 'writers', 'studio_name']\n",
    "ohe_features = ['rating', 'tomatometer_status']"
   ]
  },
  {
   "cell_type": "code",
   "execution_count": 23,
   "metadata": {},
   "outputs": [],
   "source": [
    "# Step 1: Applying Target Encoding to some features using category_encoders\n",
    "target_encoder1 = TargetEncoder(cols=te_features, smoothing=1.0)\n",
    "df[te_features] = target_encoder1.fit_transform(df[te_features], df['audience_rating'])\n",
    "\n",
    "# Step 2: Applying Custom Target Encoding to high-cardinality features\n",
    "target_encoder2 = TargetEncoder(cols=high_cardinal_features, smoothing=5.0)\n",
    "df[high_cardinal_features] = target_encoder2.fit_transform(df[high_cardinal_features], df['audience_rating'])\n",
    "\n",
    "# Step 3: Applying One-Hot Encoding to categorical features with low cardinality\n",
    "df = pd.get_dummies(df, columns=ohe_features, dtype=int)\n"
   ]
  },
  {
   "cell_type": "markdown",
   "metadata": {},
   "source": [
    "# PIPELINE"
   ]
  },
  {
   "cell_type": "markdown",
   "metadata": {},
   "source": [
    "- Regression Models"
   ]
  },
  {
   "cell_type": "code",
   "execution_count": 24,
   "metadata": {},
   "outputs": [],
   "source": [
    "models = {\n",
    "    'LinearRegression': LinearRegression(),\n",
    "    'RandomForest': RandomForestRegressor(n_estimators=100, random_state=42),\n",
    "    'DecisionTree': DecisionTreeRegressor(random_state=42),\n",
    "    'SupportVectorRegressor': SVR(),\n",
    "    'GradientBoosting': GradientBoostingRegressor(random_state=42),\n",
    "    'Lasso': Lasso(alpha=0.1, random_state=42),\n",
    "    'Ridge': Ridge(alpha=0.1, random_state=42),\n",
    "    'ElasticNet': ElasticNet(alpha=0.1, l1_ratio=0.5, random_state=42),\n",
    "    'KNeighbors': KNeighborsRegressor(n_neighbors=5)\n",
    "}\n"
   ]
  },
  {
   "cell_type": "code",
   "execution_count": 25,
   "metadata": {},
   "outputs": [
    {
     "data": {
      "text/plain": [
       "movie_title                           0\n",
       "movie_info                            0\n",
       "genre                                 0\n",
       "directors                             0\n",
       "writers                               0\n",
       "cast                                  0\n",
       "runtime_in_minutes                    0\n",
       "studio_name                           0\n",
       "tomatometer_rating                    0\n",
       "tomatometer_count                     0\n",
       "audience_rating                       0\n",
       "in_theaters_year                      0\n",
       "in_theaters_month                     0\n",
       "in_theaters_day                       0\n",
       "days_to_streaming                     0\n",
       "rating_G                              0\n",
       "rating_NC-17                          0\n",
       "rating_NR                             0\n",
       "rating_PG                             0\n",
       "rating_PG-13                          0\n",
       "rating_R                              0\n",
       "tomatometer_status_Certified Fresh    0\n",
       "tomatometer_status_Fresh              0\n",
       "tomatometer_status_Rotten             0\n",
       "dtype: int64"
      ]
     },
     "execution_count": 25,
     "metadata": {},
     "output_type": "execute_result"
    }
   ],
   "source": [
    "df.isna().sum()"
   ]
  },
  {
   "cell_type": "markdown",
   "metadata": {},
   "source": [
    "- Train Test Split"
   ]
  },
  {
   "cell_type": "code",
   "execution_count": 26,
   "metadata": {},
   "outputs": [],
   "source": [
    "X = df.drop(columns=['audience_rating'], axis=1)\n",
    "y = df['audience_rating']\n",
    "X_train, X_test, y_train, y_test = train_test_split(X, y, train_size=0.8, random_state=42)"
   ]
  },
  {
   "cell_type": "code",
   "execution_count": 27,
   "metadata": {},
   "outputs": [
    {
     "name": "stderr",
     "output_type": "stream",
     "text": [
      "  File \"c:\\Users\\kabee\\anaconda3\\envs\\movie\\lib\\site-packages\\joblib\\externals\\loky\\backend\\context.py\", line 257, in _count_physical_cores\n",
      "    cpu_info = subprocess.run(\n",
      "  File \"c:\\Users\\kabee\\anaconda3\\envs\\movie\\lib\\subprocess.py\", line 493, in run\n",
      "    with Popen(*popenargs, **kwargs) as process:\n",
      "  File \"c:\\Users\\kabee\\anaconda3\\envs\\movie\\lib\\subprocess.py\", line 858, in __init__\n",
      "    self._execute_child(args, executable, preexec_fn, close_fds,\n",
      "  File \"c:\\Users\\kabee\\anaconda3\\envs\\movie\\lib\\subprocess.py\", line 1327, in _execute_child\n",
      "    hp, ht, pid, tid = _winapi.CreateProcess(executable, args,\n"
     ]
    }
   ],
   "source": [
    "results = {}\n",
    "\n",
    "for model_name, model in models.items():\n",
    "    pipeline = Pipeline([\n",
    "        ('scaler', StandardScaler()),\n",
    "        ('model', model)\n",
    "    ])\n",
    "    \n",
    "    # Fit the pipeline\n",
    "    pipeline.fit(X_train, y_train)\n",
    "    y_pred = pipeline.predict(X_test)\n",
    "    \n",
    "    # Calculate metrics\n",
    "    mae = mean_absolute_error(y_test, y_pred)\n",
    "    mse = mean_squared_error(y_test, y_pred)\n",
    "    rmse = np.sqrt(mse)\n",
    "    r2 = r2_score(y_test, y_pred)\n",
    "    \n",
    "    # Store the results\n",
    "    results[model_name] = {\n",
    "        'Mean Absolute Error': mae,\n",
    "        'Mean Squared Error': mse,\n",
    "        'Root Mean Squared Error': rmse,\n",
    "        'R^2 Score': r2\n",
    "    }\n",
    "\n",
    "# Display the results\n",
    "results_df = pd.DataFrame(results).T \n"
   ]
  },
  {
   "cell_type": "markdown",
   "metadata": {},
   "source": [
    "# EVALUATION METRICS"
   ]
  },
  {
   "cell_type": "code",
   "execution_count": 28,
   "metadata": {},
   "outputs": [
    {
     "data": {
      "text/html": [
       "<div>\n",
       "<style scoped>\n",
       "    .dataframe tbody tr th:only-of-type {\n",
       "        vertical-align: middle;\n",
       "    }\n",
       "\n",
       "    .dataframe tbody tr th {\n",
       "        vertical-align: top;\n",
       "    }\n",
       "\n",
       "    .dataframe thead th {\n",
       "        text-align: right;\n",
       "    }\n",
       "</style>\n",
       "<table border=\"1\" class=\"dataframe\">\n",
       "  <thead>\n",
       "    <tr style=\"text-align: right;\">\n",
       "      <th></th>\n",
       "      <th>Mean Absolute Error</th>\n",
       "      <th>Mean Squared Error</th>\n",
       "      <th>Root Mean Squared Error</th>\n",
       "      <th>R^2 Score</th>\n",
       "    </tr>\n",
       "  </thead>\n",
       "  <tbody>\n",
       "    <tr>\n",
       "      <th>LinearRegression</th>\n",
       "      <td>6.465913</td>\n",
       "      <td>82.471164</td>\n",
       "      <td>9.081364</td>\n",
       "      <td>0.797829</td>\n",
       "    </tr>\n",
       "    <tr>\n",
       "      <th>RandomForest</th>\n",
       "      <td>0.127359</td>\n",
       "      <td>1.094282</td>\n",
       "      <td>1.046079</td>\n",
       "      <td>0.997317</td>\n",
       "    </tr>\n",
       "    <tr>\n",
       "      <th>DecisionTree</th>\n",
       "      <td>0.154624</td>\n",
       "      <td>1.360697</td>\n",
       "      <td>1.166489</td>\n",
       "      <td>0.996664</td>\n",
       "    </tr>\n",
       "    <tr>\n",
       "      <th>SupportVectorRegressor</th>\n",
       "      <td>2.823321</td>\n",
       "      <td>37.027158</td>\n",
       "      <td>6.084995</td>\n",
       "      <td>0.909231</td>\n",
       "    </tr>\n",
       "    <tr>\n",
       "      <th>GradientBoosting</th>\n",
       "      <td>1.016213</td>\n",
       "      <td>5.445133</td>\n",
       "      <td>2.333481</td>\n",
       "      <td>0.986652</td>\n",
       "    </tr>\n",
       "    <tr>\n",
       "      <th>Lasso</th>\n",
       "      <td>6.522907</td>\n",
       "      <td>83.196571</td>\n",
       "      <td>9.121215</td>\n",
       "      <td>0.796051</td>\n",
       "    </tr>\n",
       "    <tr>\n",
       "      <th>Ridge</th>\n",
       "      <td>6.487932</td>\n",
       "      <td>82.683860</td>\n",
       "      <td>9.093067</td>\n",
       "      <td>0.797308</td>\n",
       "    </tr>\n",
       "    <tr>\n",
       "      <th>ElasticNet</th>\n",
       "      <td>6.786703</td>\n",
       "      <td>85.695661</td>\n",
       "      <td>9.257195</td>\n",
       "      <td>0.789925</td>\n",
       "    </tr>\n",
       "    <tr>\n",
       "      <th>KNeighbors</th>\n",
       "      <td>6.406614</td>\n",
       "      <td>70.814707</td>\n",
       "      <td>8.415147</td>\n",
       "      <td>0.826404</td>\n",
       "    </tr>\n",
       "  </tbody>\n",
       "</table>\n",
       "</div>"
      ],
      "text/plain": [
       "                        Mean Absolute Error  Mean Squared Error  \\\n",
       "LinearRegression                   6.465913           82.471164   \n",
       "RandomForest                       0.127359            1.094282   \n",
       "DecisionTree                       0.154624            1.360697   \n",
       "SupportVectorRegressor             2.823321           37.027158   \n",
       "GradientBoosting                   1.016213            5.445133   \n",
       "Lasso                              6.522907           83.196571   \n",
       "Ridge                              6.487932           82.683860   \n",
       "ElasticNet                         6.786703           85.695661   \n",
       "KNeighbors                         6.406614           70.814707   \n",
       "\n",
       "                        Root Mean Squared Error  R^2 Score  \n",
       "LinearRegression                       9.081364   0.797829  \n",
       "RandomForest                           1.046079   0.997317  \n",
       "DecisionTree                           1.166489   0.996664  \n",
       "SupportVectorRegressor                 6.084995   0.909231  \n",
       "GradientBoosting                       2.333481   0.986652  \n",
       "Lasso                                  9.121215   0.796051  \n",
       "Ridge                                  9.093067   0.797308  \n",
       "ElasticNet                             9.257195   0.789925  \n",
       "KNeighbors                             8.415147   0.826404  "
      ]
     },
     "execution_count": 28,
     "metadata": {},
     "output_type": "execute_result"
    }
   ],
   "source": [
    "results_df"
   ]
  },
  {
   "cell_type": "markdown",
   "metadata": {},
   "source": [
    "- Correlation Matrix"
   ]
  },
  {
   "cell_type": "code",
   "execution_count": 29,
   "metadata": {},
   "outputs": [
    {
     "data": {
      "image/png": "[encoded data removed]",
      "text/plain": [
       "<Figure size 640x480 with 2 Axes>"
      ]
     },
     "metadata": {},
     "output_type": "display_data"
    }
   ],
   "source": [
    "correlation_matrix = df.corr()\n",
    "\n",
    "sns.heatmap(correlation_matrix, annot=False, cmap='coolwarm')\n",
    "plt.show()\n"
   ]
  },
  {
   "cell_type": "markdown",
   "metadata": {},
   "source": [
    "# Best Model Metrics"
   ]
  },
  {
   "cell_type": "code",
   "execution_count": 30,
   "metadata": {},
   "outputs": [
    {
     "data": {
      "text/html": [
       "<div>\n",
       "<style scoped>\n",
       "    .dataframe tbody tr th:only-of-type {\n",
       "        vertical-align: middle;\n",
       "    }\n",
       "\n",
       "    .dataframe tbody tr th {\n",
       "        vertical-align: top;\n",
       "    }\n",
       "\n",
       "    .dataframe thead th {\n",
       "        text-align: right;\n",
       "    }\n",
       "</style>\n",
       "<table border=\"1\" class=\"dataframe\">\n",
       "  <thead>\n",
       "    <tr style=\"text-align: right;\">\n",
       "      <th></th>\n",
       "      <th>Mean Absolute Error</th>\n",
       "      <th>Mean Squared Error</th>\n",
       "      <th>Root Mean Squared Error</th>\n",
       "      <th>R^2 Score</th>\n",
       "    </tr>\n",
       "  </thead>\n",
       "  <tbody>\n",
       "    <tr>\n",
       "      <th>RandomForest</th>\n",
       "      <td>0.127359</td>\n",
       "      <td>1.094282</td>\n",
       "      <td>1.046079</td>\n",
       "      <td>0.997317</td>\n",
       "    </tr>\n",
       "  </tbody>\n",
       "</table>\n",
       "</div>"
      ],
      "text/plain": [
       "              Mean Absolute Error  Mean Squared Error  \\\n",
       "RandomForest             0.127359            1.094282   \n",
       "\n",
       "              Root Mean Squared Error  R^2 Score  \n",
       "RandomForest                 1.046079   0.997317  "
      ]
     },
     "execution_count": 30,
     "metadata": {},
     "output_type": "execute_result"
    }
   ],
   "source": [
    "best_model_name = max(results, key=lambda model: results[model]['R^2 Score'])\n",
    "best_model_metrics = results[best_model_name]\n",
    "best_model = models[best_model_name]\n",
    "\n",
    "best_model_df = pd.DataFrame([best_model_metrics], index=[best_model_name])\n",
    "best_model_df"
   ]
  },
  {
   "cell_type": "code",
   "execution_count": 31,
   "metadata": {},
   "outputs": [
    {
     "data": {
      "image/png": "[encoded data removed]",
      "text/plain": [
       "<Figure size 1000x600 with 1 Axes>"
      ]
     },
     "metadata": {},
     "output_type": "display_data"
    }
   ],
   "source": [
    "pipeline = Pipeline([\n",
    "    ('scaler', StandardScaler()),\n",
    "    ('model', best_model)\n",
    "])\n",
    "\n",
    "pipeline.fit(X_train, y_train)\n",
    "y_pred_best = pipeline.predict(X_test)\n",
    "\n",
    "plt.figure(figsize=(10, 6))\n",
    "plt.scatter(y_test, y_test, color='blue', label='Original Values', alpha=0.7, s=80)  # Larger size\n",
    "plt.scatter(y_test, y_pred_best, color='red', label='Predicted Values', alpha=0.7, s=50)  # Smaller size\n",
    "plt.xlabel('Original Values')\n",
    "plt.ylabel('Predicted Values')\n",
    "plt.title(f\"Original vs Predicted Values for Best Model: {best_model_name}\")\n",
    "plt.legend()\n",
    "plt.show()\n"
   ]
  },
  {
   "cell_type": "markdown",
   "metadata": {},
   "source": [
    "# ---------------------- `END` ----------------------"
   ]
  }
 ],
 "metadata": {
  "kernelspec": {
   "display_name": "movie",
   "language": "python",
   "name": "python3"
  },
  "language_info": {
   "codemirror_mode": {
    "name": "ipython",
    "version": 3
   },
   "file_extension": ".py",
   "mimetype": "text/x-python",
   "name": "python",
   "nbconvert_exporter": "python",
   "pygments_lexer": "ipython3",
   "version": "3.8.20"
  }
 },
 "nbformat": 4,
 "nbformat_minor": 2
}
